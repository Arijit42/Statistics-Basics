{
  "nbformat": 4,
  "nbformat_minor": 0,
  "metadata": {
    "colab": {
      "provenance": []
    },
    "kernelspec": {
      "name": "python3",
      "display_name": "Python 3"
    },
    "language_info": {
      "name": "python"
    }
  },
  "cells": [
    {
      "cell_type": "markdown",
      "source": [
        "# 1. Explain the different types of data (qualitative and quantitative) and provide examples of each. Discuss nominal, ordinal, interval, and ratio scales.\n",
        "1) **Qualitative Data:** Non-numerical in nature, cannot perform arithmatic operations.Qualitative Data has 2 types, Nominal data: Data without any inherant order (e.g.male/Female). Ordinal Data:Data with a meaningful order but no fixed interval.e.g.High School,bachalor degree, customer satisfaction (High.medium, low).\n",
        "\n",
        "2) **Quantitative Data:** Data that represents numeric values, measuring quantity.It can perfrom arithmatic operations.It has genrally 2 types,\n",
        "\n",
        "**Discrete Data: **Countable values with no intermediate values.Examples: Number of children, Cars owned.\n",
        "**Continuous Data:** Measurable values that can take any value within a range.\n",
        "Examples: Height, Weight, Temperature.\n",
        "\n",
        "**Interval Scale:** A scale of measurement where the difference between values is meaningful and consistent, but there is no true zero point.e.g.he difference between 10 and 20 is the same as between 30 and 40.\n",
        "\n",
        "**Ratio Scale:**A scale of measurement where the difference between values is meaningful and consistent, and there is a true zero point.e.g.Height (0 cm means \"no height\"), temparature.\n",
        "\n",
        "# 2. What are the measures of central tendency, and when should you use each? Discuss the mean, median, and mode with examples and situations where each is appropriate.\n",
        "**-Mean (Average):**The sum of all data values divided by the total number of values.Example: The average of [10, 20, 30] is 20.\n",
        "Suitable situation: Use when the data has no extreme outliers.Ex: Avge test number of students in a class.\n",
        "\n",
        "**Median:**The middle value in an ordered dataset. If even, it's the average of the two middle values.Example: For [10, 20, 30], the median is 20. For [10, 20, 30, 40], the median is 25. Eg: Avge income in a state.\n",
        "\n",
        "**Mode** Most frequent occured value in a dataset. Ex:[10, 20, 20, 30], the mode is 20.Suitable scenarion:Most common shoe size sold in a store.\n",
        "\n",
        "# 3. Explain the concept of dispersion. How do variance and standard deviation measure the spread of data?\n",
        "-Dispersion refers to the extent to which data points in a dataset differ from each other and from the central value (like the mean or median).\n",
        "Common Measures of Dispersion:\n",
        "1) **Range:** Difference between the maximum and minimum values.\n",
        "2) **Variance:** Average of the squared differences from the mean.\n",
        "3) **Standard Deviation:** Square root of the variance.\n",
        "Variance emphasizes larger deviations due to squaring, making it sensitive to outliers.Standard Deviation expresses dispersion in the same units as the original data, making it more interpretable.\n",
        "\n",
        "# 4. What is a box plot, and what can it tell you about the distribution of data?\n",
        " - A box-plot is graph of the data ,which shows central tendency, outliers. It provides Five poit  sumamry:\n",
        " a) **Minimum value** 2) First Quartile 3) Median 3) Third quartile 4) Maxium value.\n",
        " It has 3 components:\n",
        " a) **Box**:The box spans from Q1 to Q3\n",
        " b) **Whisker**: mallest and largest values within 1.5 * IQR from Q1 and Q3, respectively.\n",
        " c) **Outliers**: Values beyond the whiskers are considered outliers.\n",
        "\n",
        "Box plots tells us few point:\n",
        "1) Measues of central tendancy\n",
        "2) Spread\n",
        "3) Skewness\n",
        "4) Outliers.\n",
        "\n",
        "# **5. Discuss the role of random sampling in making inferences about populations.**\n",
        "-Representative: Ensures the sample reflects the population.\n",
        "Generalization: Allows inferences to be made about the population.\n",
        "Reduces Bias: Minimizes selection bias for reliable results\n",
        "\n",
        "# 6. Explain the concept of skewness and its types. How does skewness affect the interpretation of data?\n",
        "- Skewness measures the asymmetry of a data distribution. It indicates whether the data are stretched more to the left or right of the mean.\n",
        "Interpretation of skewness:\n",
        "Positive skew: Data values are concentrated on the lower end, making the mean higher than the median.\n",
        "Negative skew: Data values are concentrated on the higher end, making the mean lower than the median.\n",
        "\n",
        "# 7. What is the interquartile range (IQR), and how is it used to detect outliers?\n",
        "-The IQR is the difference between the third quartile (Q3) and the first quartile (Q1), representing the middle 50% of the data.IQR=Q3-Q1\n",
        "Outliers are calculated as below:\n",
        "Lower fence: Q1 - 1.5*IQR\n",
        "upper fence: Q3+ 1.5*IQR\n",
        "\n",
        "# 8. Discuss the conditions under which the binomial distribution is used.\n",
        "The binomial distribution is used under the following conditions:\n",
        "1.Fixed Number of Trials: There are a set number of trials\n",
        "2.Two Possible Outcomes: Each trial results in one of two outcomes (success or failure).\n",
        "\n",
        "# 9. Explain the properties of the normal distribution and the empirical rule (68-95-99.7 rule).\n",
        "- Not covered in Module 1 , so can;t answer.\n",
        "\n",
        "# 10. Provide a real-life example of a Poisson process and calculate the probability for a specific event.\n",
        "- Probability is not covered in Module 1.\n",
        "\n",
        "# 11. Explain what a random variable is and differentiate between discrete and continuous random variables.\n",
        "- A random variable is a numerical outcome of a random phenomenon.\n",
        "Types of Random Variables:\n",
        "**Discrete Random Variable:**Takes on a finite or countable number of distinct values.\n",
        "**Continuous Random Variable:**\n",
        "Takes on an infinite number of values within a given range\n",
        "\n",
        "# 12. Provide an example dataset, calculate both covariance and correlation, and interpret the results\n",
        "- This is shown below with python code.\n"
      ],
      "metadata": {
        "id": "7hImRdN6AMQc"
      }
    },
    {
      "cell_type": "code",
      "source": [
        "# 12. Provide an example dataset, calculate both covariance and correlation, and interpret the results\n",
        "import numpy as np\n",
        "X = np.array([1, 2, 3, 4, 5])\n",
        "Y = np.array([2, 4, 6, 8, 10])\n",
        "mean_X = np.mean(X)\n",
        "mean_Y = np.mean(Y)\n",
        "cov_XY = np.cov(X, Y)[0][1]\n",
        "std_X = np.std(X, ddof=1)\n",
        "std_Y = np.std(Y, ddof=1)\n",
        "\n",
        "corr_XY = cov_XY / (std_X * std_Y)\n",
        "cov_XY, corr_XY\n",
        "\n",
        "# The results are:\n",
        "# Covariance: 5.0, indicating a positive relationship between X and Y.\n",
        "# Correlation: 1.0, suggesting a perfect positive linear relationship between X and Y"
      ],
      "metadata": {
        "colab": {
          "base_uri": "https://localhost:8080/"
        },
        "id": "EI958c4TYucw",
        "outputId": "6e5e9a1c-115c-4070-9ce2-7f3fd430fdc9"
      },
      "execution_count": 1,
      "outputs": [
        {
          "output_type": "execute_result",
          "data": {
            "text/plain": [
              "(5.0, 0.9999999999999998)"
            ]
          },
          "metadata": {},
          "execution_count": 1
        }
      ]
    }
  ]
}